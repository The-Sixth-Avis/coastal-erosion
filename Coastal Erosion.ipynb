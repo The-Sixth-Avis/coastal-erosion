{
 "cells": [
  {
   "cell_type": "code",
   "execution_count": 22,
   "id": "ab2b2953",
   "metadata": {},
   "outputs": [],
   "source": [
    "import ee\n",
    "import geemap\n",
    "import numpy as np\n",
    "import pandas as pd\n",
    "import matplotlib.pyplot as plt\n",
    "%matplotlib inline"
   ]
  },
  {
   "cell_type": "code",
   "execution_count": 23,
   "id": "18b8a0a1",
   "metadata": {},
   "outputs": [],
   "source": [
    "ee.Initialize()"
   ]
  },
  {
   "cell_type": "code",
   "execution_count": 24,
   "id": "704c8755",
   "metadata": {},
   "outputs": [],
   "source": [
    "# Define the area of interest\n",
    "lat = 12.793\n",
    "lon = -16.770\n",
    "\n",
    "b = 'data/Senegal.shp'\n",
    "roi = geemap.shp_to_ee(b)\n"
   ]
  },
  {
   "cell_type": "code",
   "execution_count": 4,
   "id": "12497208",
   "metadata": {},
   "outputs": [],
   "source": [
    "# Declare the multiple dates. #TODO automated timestep\n",
    "sd1 = '2016-01-01'\n",
    "ed1 = '2016-12-31'\n",
    "sd2 = '2017-01-01'\n",
    "ed2 = '2017-12-31'\n",
    "sd3 = '2018-01-01'\n",
    "ed3 = '2018-12-31'"
   ]
  },
  {
   "cell_type": "code",
   "execution_count": 16,
   "id": "7d4295ee",
   "metadata": {},
   "outputs": [],
   "source": [
    "# The main function, receiving only date range and roi\n",
    "# Imagecollection filter\n",
    "# cloudmask\n",
    "# compositing and reducing\n",
    "# MNDWI\n",
    "\n",
    "band_name = ee.List(['B2','B3', 'B4', 'B8','B12'])\n",
    "def imgcol(sdate, edate, aoi):\n",
    "    year = ee.String(sdate).slice(0,4)\n",
    "    #Filter cloud \n",
    "    def cloud_prob():\n",
    "        innerJoined = ee.Join.inner().apply(**{\n",
    "            'primary':ee.ImageCollection(\"COPERNICUS/S2\")\\\n",
    "                .filterBounds(aoi)\\\n",
    "                    .filter(ee.Filter.lt('CLOUDY_PIXEL_PERCENTAGE',20)),\n",
    "             'secondary': ee.ImageCollection(\"COPERNICUS/S2_CLOUD_PROBABILITY\")\\\n",
    "                .filterBounds(aoi),       \n",
    "            'condition':ee.Filter.equals(**{\n",
    "                'leftField':'system:index',\n",
    "                'rightField':'system:index',\n",
    "            })\n",
    "        })\n",
    "        def mergeBands(joinresult):\n",
    "            return ee.Image(joinresult.get('primary'))\\\n",
    "                .addBands(joinresult.get('secondary'))\n",
    "        newCollection = innerJoined.map(mergeBands)\n",
    "        return ee.ImageCollection(newCollection)\n",
    "\n",
    "    #cloud mask\n",
    "    def maskcloud(_image):\n",
    "        cloudProbabilityThreshold =20\n",
    "        cloudMask = _image.select('probability').lt(cloudProbabilityThreshold)\n",
    "        return _image.updateMask(cloudMask)\n",
    "\n",
    "    #Less clouded image collection with date range\n",
    "    _imagecoll = cloud_prob().filterDate(sdate,edate)\n",
    "    \n",
    "    #cloud mask collection\n",
    "    __imagecoll = _imagecoll.map(maskcloud).select(band_name)\n",
    "    \n",
    "    #resolution merge - B12(20m) to 10m\n",
    "    def resmerge(img):\n",
    "        #generate a panchrmatic band from exist 10m bands \n",
    "        panchro = (img.select('B2').add(img.select('B3'))\\\n",
    "                       .add(img.select('B4')).add(img.select('B8')))\\\n",
    "                       .divide(4).rename('pan')\n",
    "        img = img.addBands(panchro)\n",
    "\n",
    "        bands = ['B12']\n",
    "        #a kernel function to sharpen the 20m band to 10m\n",
    "        def sharpen(img):\n",
    "            kernel = ee.Kernel.square(**{\n",
    "                'radius': 20,\n",
    "                'units':'meters'\n",
    "            })\n",
    "            toSharpen = img.select(bands)\n",
    "            pan = img.select('pan')\n",
    "            meanPan = pan.reduceNeighborhood(**{\n",
    "                'reducer' : ee.Reducer.mean(),\n",
    "                'kernel' : kernel\n",
    "            })\n",
    "            offset = pan.subtract(meanPan)\n",
    "            return toSharpen.add(offset)\n",
    "        sharpened = sharpen(img)\n",
    "        band10m = img.select(['B2','B3','B4','B8'])\n",
    "        imagef = band10m.addBands(sharpened)\n",
    "        return imagef\n",
    "\n",
    "    image_collection = __imagecoll.map(resmerge)\n",
    "    #compositing - median most appropriate\n",
    "    image_feature = image_collection.median().clip(aoi).divide(10000)\n",
    "\n",
    "    #MNDWI\n",
    "    mndwi = image_feature.expression(\n",
    "    '(GREEN - SWIR)/(GREEN+SWIR)',{\n",
    "        'GREEN':image_feature.select('B3'),\n",
    "        'SWIR':image_feature.select('B12')\n",
    "    }).rename(year.cat('_MNDWI'))\n",
    "    return mndwi"
   ]
  },
  {
   "cell_type": "code",
   "execution_count": 17,
   "id": "9f96d76c",
   "metadata": {},
   "outputs": [],
   "source": [
    "#\n",
    "mndwi2016 = imgcol(sd1,ed1,roi)\n",
    "mndwi2017 =imgcol(sd2,ed2,roi)\n",
    "mndwi2018 =imgcol(sd3,ed3,roi)\n",
    "# print(mndwi2016.getInfo())"
   ]
  },
  {
   "cell_type": "code",
   "execution_count": 18,
   "id": "eee52c57",
   "metadata": {},
   "outputs": [
    {
     "name": "stdout",
     "output_type": "stream",
     "text": [
      "['constant', '2016_MNDWI', '2017_MNDWI', '2018_MNDWI']\n"
     ]
    }
   ],
   "source": [
    "#An image container to hold all the timeseries MNDWI\n",
    "NMDVI_Image = ee.Image()\n",
    "NMDVI_Image = NMDVI_Image.addBands(mndwi2016).addBands(mndwi2017).addBands(mndwi2018)\n",
    "print(NMDVI_Image.bandNames().getInfo())"
   ]
  },
  {
   "cell_type": "code",
   "execution_count": 14,
   "id": "0e92b63a",
   "metadata": {
    "scrolled": false
   },
   "outputs": [
    {
     "data": {
      "application/vnd.jupyter.widget-view+json": {
       "model_id": "25c0e9a7d3bd46609692b2016796c288",
       "version_major": 2,
       "version_minor": 0
      },
      "text/plain": [
       "Map(center=[12.793, -16.77], controls=(WidgetControl(options=['position', 'transparent_bg'], widget=HBox(child…"
      ]
     },
     "metadata": {},
     "output_type": "display_data"
    }
   ],
   "source": [
    "Map = geemap.Map(center=(lat,lon),zoom=8)\n",
    "Map"
   ]
  },
  {
   "cell_type": "code",
   "execution_count": 19,
   "id": "9de57a98",
   "metadata": {},
   "outputs": [],
   "source": [
    "vis_params = {'bands': ['2016_MNDWI'], 'palette': ['fff7f3', ' fff6f2', ' fff6f2', ' fff5f1', ' fff4f0', ' fff3f0', ' fff3ef', ' fff2ee', ' fef1ed', ' fef1ed', ' fef0ec', ' feefeb', ' feeeeb', ' feeeea', ' feede9', ' feece9', ' feebe8', ' feebe7', ' feeae7', ' fee9e6', ' fee9e5', ' fee8e5', ' fee7e4', ' fee6e3', ' fde6e2', ' fde5e2', ' fde4e1', ' fde4e0', ' fde3e0', ' fde2df', ' fde1de', ' fde1de', ' fde0dd', ' fddfdc', ' fddedb', ' fdddda', ' fdddd9', ' fddcd8', ' fddbd7', ' fddad7', ' fdd9d6', ' fdd8d5', ' fdd7d4', ' fdd7d3', ' fdd6d2', ' fdd5d1', ' fdd4d0', ' fdd3cf', ' fcd2ce', ' fcd1cd', ' fcd1cd', ' fcd0cc', ' fccfcb', ' fcceca', ' fccdc9', ' fcccc8', ' fcccc7', ' fccbc6', ' fccac5', ' fcc9c4', ' fcc8c3', ' fcc7c3', ' fcc6c2', ' fcc6c1', ' fcc5c0', ' fcc4c0', ' fcc2bf', ' fcc1bf', ' fcc0bf', ' fcbfbe', ' fcbebe', ' fcbcbd', ' fbbbbd', ' fbbabd', ' fbb9bc', ' fbb8bc', ' fbb6bc', ' fbb5bb', ' fbb4bb', ' fbb3bb', ' fbb2ba', ' fbb0ba', ' fbafba', ' fbaeb9', ' fbadb9', ' fbacb9', ' fbaab8', ' fba9b8', ' faa8b8', ' faa7b7', ' faa6b7', ' faa5b7', ' faa3b6', ' faa2b6', ' faa1b6', ' faa0b5', ' fa9eb5', ' fa9db4', ' fa9bb4', ' fa99b3', ' fa97b2', ' f996b2', ' f994b1', ' f992b0', ' f991b0', ' f98faf', ' f98dae', ' f98bae', ' f98aad', ' f988ad', ' f986ac', ' f984ab', ' f883ab', ' f881aa', ' f87fa9', ' f87ea9', ' f87ca8', ' f87aa8', ' f878a7', ' f877a6', ' f875a6', ' f873a5', ' f871a4', ' f770a4', ' f76ea3', ' f76ca3', ' f76ba2', ' f769a1', ' f767a1', ' f666a1', ' f564a0', ' f462a0', ' f361a0', ' f35f9f', ' f25d9f', ' f15c9f', ' f05a9e', ' ef599e', ' ee579e', ' ee559d', ' ed549d', ' ec529d', ' eb509c', ' ea4f9c', ' ea4d9c', ' e94b9c', ' e84a9b', ' e7489b', ' e6479b', ' e5459a', ' e5439a', ' e4429a', ' e34099', ' e23e99', ' e13d99', ' e13b98', ' e03a98', ' df3898', ' de3697', ' dd3597', ' dc3397', ' db3196', ' d93095', ' d82e94', ' d62d93', ' d52b93', ' d32992', ' d22891', ' d02690', ' cf258f', ' cd238f', ' cc218e', ' ca208d', ' c91e8c', ' c71d8c', ' c61b8b', ' c4198a', ' c31889', ' c21688', ' c01588', ' bf1387', ' bd1186', ' bc1085', ' ba0e84', ' b90d84', ' b70b83', ' b60982', ' b40881', ' b30681', ' b10580', ' b0037f', ' ae017e', ' ad017e', ' ab017e', ' aa017d', ' a8017d', ' a6017d', ' a5017d', ' a3017d', ' a1017c', ' a0017c', ' 9e017c', ' 9c017c', ' 9b017b', ' 99017b', ' 98017b', ' 96017b', ' 94017b', ' 93017a', ' 91017a', ' 8f017a', ' 8e017a', ' 8c0179', ' 8b0179', ' 890179', ' 870179', ' 860179', ' 840178', ' 820178', ' 810178', ' 7f0178', ' 7d0177', ' 7c0177', ' 7a0177', ' 790177', ' 770176', ' 760176', ' 740175', ' 730175', ' 710175', ' 6f0174', ' 6e0174', ' 6c0173', ' 6b0173', ' 690173', ' 680172', ' 660172', ' 650171', ' 630171', ' 620171', ' 600070', ' 5f0070', ' 5d006f', ' 5b006f', ' 5a006e', ' 58006e', ' 57006e', ' 55006d', ' 54006d', ' 52006c', ' 51006c', ' 4f006c', ' 4e006b', ' 4c006b', ' 4b006a', ' 49006a'], 'min': -0.5, 'max': 0.5}"
   ]
  },
  {
   "cell_type": "code",
   "execution_count": 20,
   "id": "d8de48d4",
   "metadata": {},
   "outputs": [],
   "source": [
    "Map.addLayer(NMDVI_Image,vis_params, 'MNDWI')\n",
    "# Map.addLayer(roi,{}, 'Roi')"
   ]
  },
  {
   "cell_type": "markdown",
   "id": "ef20a96e",
   "metadata": {},
   "source": [
    "https://www.reddit.com/r/remotesensing/comments/es3mse/error_in_display_url_image_from_google_earth/ff866gf/\n",
    "https://gis.stackexchange.com/questions/340340/layer-error-element-get-argument-property-invalid-type-expected-string-a\n",
    "https://developers.google.com/earth-engine/tutorials/community/intro-to-python-api-guiattard#static_mapping_of_land_surface_temperature_and_ground_elevation\n",
    "https://www.sciencedirect.com/science/article/pii/S1364815219300490#fig1\n",
    "https://sandbox.digitalearth.africa/user/ecue000/lab?"
   ]
  }
 ],
 "metadata": {
  "kernelspec": {
   "display_name": "Python 3",
   "language": "python",
   "name": "python3"
  },
  "language_info": {
   "codemirror_mode": {
    "name": "ipython",
    "version": 3
   },
   "file_extension": ".py",
   "mimetype": "text/x-python",
   "name": "python",
   "nbconvert_exporter": "python",
   "pygments_lexer": "ipython3",
   "version": "3.9.2"
  }
 },
 "nbformat": 4,
 "nbformat_minor": 5
}
